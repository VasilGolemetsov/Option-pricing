{
 "cells": [
  {
   "cell_type": "code",
   "execution_count": 9,
   "metadata": {},
   "outputs": [
    {
     "data": {
      "image/png": "[encoded data removed]",
      "text/plain": [
       "<Figure size 432x288 with 1 Axes>"
      ]
     },
     "metadata": {
      "needs_background": "light"
     },
     "output_type": "display_data"
    }
   ],
   "source": [
    "import matplotlib.pyplot as plt\n",
    "plt.xlim(0,1)\n",
    "plt.figtext(0.18,0.5,\"S\")\n",
    "plt.figtext(0.6,0.5 + 0.25,\"Su\")\n",
    "plt.figtext(0.6,0.5 - 0.25,\"Sd\")\n",
    "\n",
    "plt.annotate(\"\",xy=(0.6,0.5 + 0.25), xytext=(0.1,0.5),arrowprops=dict(facecolor=\"b\", shrink = 0.01))\n",
    "plt.annotate(\"\",xy=(0.6,0.5 - 0.25), xytext=(0.1,0.5),arrowprops=dict(facecolor=\"b\", shrink = 0.01))\n",
    "plt.axis(\"off\")\n",
    "plt.show()"
   ]
  },
  {
   "cell_type": "code",
   "execution_count": 12,
   "metadata": {},
   "outputs": [
    {
     "data": {
      "image/png": "[encoded data removed]",
      "text/plain": [
       "<Figure size 432x288 with 1 Axes>"
      ]
     },
     "metadata": {},
     "output_type": "display_data"
    }
   ],
   "source": [
    "import networkx as nx\n",
    "import matplotlib.pyplot as plt\n",
    "plt.figtext(0.08,0.6,\"Stock price = $20\")\n",
    "plt.figtext(0.75,0.91,\"Stock price = $22\")\n",
    "plt.figtext(0.75,0.87,\"Stock price = $1\")\n",
    "plt.figtext(0.75,0.28,\"Stock price = $18\")\n",
    "plt.figtext(0.75,0.24,\"Stock price = $0\")\n",
    "n = 1\n",
    "def binomial_grid(n):\n",
    "    G = nx.Graph()\n",
    "    for i in range(0, n+1):\n",
    "        for j in range(1,i+2):\n",
    "            if i<n:\n",
    "                G.add_edge((i,j),(i+1,j))\n",
    "                G.add_edge((i,j), (i+1,j+1))\n",
    "    posG = {}\n",
    "    for node in G.nodes():\n",
    "        posG[node] = (node[0], n+2+node[0] - 2*node[1])\n",
    "    nx.draw(G, pos = posG)\n",
    "binomial_grid(n)\n",
    "plt.show()\n"
   ]
  },
  {
   "cell_type": "code",
   "execution_count": 337,
   "metadata": {},
   "outputs": [
    {
     "data": {
      "text/plain": [
       "2.7043509153604672"
      ]
     },
     "execution_count": 337,
     "metadata": {},
     "output_type": "execute_result"
    }
   ],
   "source": [
    "\n",
    "\n",
    "\n",
    "def binomialCallAmerican(S,X,T,r,sigma,n): \n",
    "    '''\n",
    "    :param S: Asset price\n",
    "    :param X: Strike Price\n",
    "    :param T: Time to Maturity\n",
    "    :param r: riskfree rate\n",
    "    :param sigma: volatility\n",
    "    :param n: number of periods for binomial tree\n",
    "    '''\n",
    "    from math import exp,sqrt \n",
    "    import numpy as np \n",
    "    deltaT = T /n\n",
    "    u = exp(sigma * sqrt(deltaT)) \n",
    "    d = 1.0 / u\n",
    "    a = exp(r * deltaT) \n",
    "    p = (a - d) / (u - d)\n",
    "    v = [[0.0 for j in range(i + 1)] for i in range(n + 1)] \n",
    "    for j in range(n+1):\n",
    "        v[n][j] = max(S * u**j * d**(n - j) - X, 0.0) \n",
    "    for i in range(n-1, -1, -1): \n",
    "        for j in range(i + 1):\n",
    "            v1=exp(-r*deltaT)*(p*v[i+1][j+1]+(1.0-p)*v[i+1][j]) \n",
    "            v2=max(S * u**j * d**(i - j)-X,0)\n",
    "            v[i][j]=max(v1,v2) \n",
    "    return v[0][0]\n",
    "            # early exercise\n",
    "\n",
    "binomialCallAmerican(90,100,5/12,0.08,0.3,10)\n",
    "\n"
   ]
  },
  {
   "cell_type": "code",
   "execution_count": 321,
   "metadata": {},
   "outputs": [
    {
     "data": {
      "text/plain": [
       "2.5894189580734523"
      ]
     },
     "execution_count": 321,
     "metadata": {},
     "output_type": "execute_result"
    }
   ],
   "source": [
    "def binomialCallEuropean(S,X,T,r,sigma,n): \n",
    "    '''\n",
    "    :param S: Asset price\n",
    "    :param X: Strike Price\n",
    "    :param T: Time to Maturity\n",
    "    :param r: riskfree rate\n",
    "    :param sigma: volatility\n",
    "    :param n: number of periods for binomial tree\n",
    "    '''\n",
    "    from math import exp,sqrt \n",
    "    deltaT = T /n\n",
    "    u = exp(sigma * sqrt(deltaT))\n",
    "    d = 1.0 / u\n",
    "    a = exp(r * deltaT) \n",
    "    p = (a - d) / (u - d)\n",
    "    v = [[0.0 for j in range(i + 1)] for i in range(n + 1)] \n",
    "    for j in range(n+1):\n",
    "        v[n][j] = max(S * u**j * d**(n - j) - X, 0.0) \n",
    "    for i in range(n-1, -1, -1): \n",
    "        for j in range(i + 1):\n",
    "            v[i][j]=exp(-r*deltaT)*(p*v[i+1][j+1]+(1.0-p)*v[i+1][j]) \n",
    "    return v[0][0]\n",
    "\n",
    "binomialCallEuropean(90,100,5/12,0.08,0.3,10)"
   ]
  },
  {
   "cell_type": "code",
   "execution_count": 338,
   "metadata": {},
   "outputs": [
    {
     "data": {
      "text/plain": [
       "11.818336104465045"
      ]
     },
     "execution_count": 338,
     "metadata": {},
     "output_type": "execute_result"
    }
   ],
   "source": [
    "def binomialPutAmerican(S,X,T,r,sigma,n): \n",
    "    '''\n",
    "    :param S: Asset price\n",
    "    :param X: Strike Price\n",
    "    :param T: Time to Maturity\n",
    "    :param r: riskfree rate\n",
    "    :param sigma: volatility\n",
    "    :param n: number of periods for binomial tree\n",
    "    '''\n",
    "    from math import exp,sqrt \n",
    "    import numpy as np \n",
    "    deltaT = T /n\n",
    "    u = exp(sigma * sqrt(deltaT)) \n",
    "    d = 1.0 / u\n",
    "    a = exp(r * deltaT) \n",
    "    p = (a - d) / (u - d)\n",
    "    v = [[0.0 for j in range(i + 1)] for i in range(n + 1)] \n",
    "    for j in range(n+1):\n",
    "        v[n][j] = max(X - S * u**j * d**(n - j) , 0.0) \n",
    "    for i in range(n-1, -1, -1): \n",
    "        for j in range(i + 1):\n",
    "            v1=exp(-r*deltaT)*(p*v[i+1][j+1]+(1.0-p)*v[i+1][j]) \n",
    "            v2=max( X-S * u**j * d**(i - j),0)\n",
    "            v[i][j]=max(v1,v2) \n",
    "            \n",
    "            \n",
    "    return v[0][0]\n",
    "            # early exercise\n",
    "\n",
    "binomialPutAmerican(90,100,5/12,0.08,0.3,10)"
   ]
  },
  {
   "cell_type": "code",
   "execution_count": 216,
   "metadata": {},
   "outputs": [
    {
     "data": {
      "text/plain": [
       "11.021708541434913"
      ]
     },
     "execution_count": 216,
     "metadata": {},
     "output_type": "execute_result"
    }
   ],
   "source": [
    "def binomialPutEuropean(S,X,T,r,sigma,n): \n",
    "    '''\n",
    "    :param S: Asset price\n",
    "    :param X: Strike Price\n",
    "    :param T: Time to Maturity\n",
    "    :param r: riskfree rate\n",
    "    :param sigma: volatility\n",
    "    :param n: number of periods for binomial tree\n",
    "    '''\n",
    "    from math import exp,sqrt \n",
    "    deltaT = T /n\n",
    "    u = exp(sigma * sqrt(deltaT))\n",
    "    d = 1.0 / u\n",
    "    a = exp(r * deltaT) \n",
    "    p = (a - d) / (u - d)\n",
    "    v = [[0.0 for j in range(i + 1)] for i in range(n + 1)] \n",
    "    for j in range(n+1):\n",
    "        v[n][j] = max(X - S * u**j * d**(n - j) , 0.0) \n",
    "    for i in range(n-1, -1, -1): \n",
    "        for j in range(i + 1):\n",
    "            v[i][j]=exp(-r*deltaT)*(p*v[i+1][j+1]+(1.0-p)*v[i+1][j]) \n",
    "    return v[0][0]\n",
    "\n",
    "binomialPutEuropean(90,100,5/12,0.08,0.3,10)"
   ]
  },
  {
   "cell_type": "code",
   "execution_count": 210,
   "metadata": {},
   "outputs": [
    {
     "data": {
      "text/plain": [
       "7.69459862670642e-23"
      ]
     },
     "execution_count": 210,
     "metadata": {},
     "output_type": "execute_result"
    }
   ],
   "source": [
    "import scipy\n",
    "N_prime = scipy.stats.norm.pdf\n",
    "\n",
    "\n",
    "def vega(S, X, T, r, sigma):\n",
    "    import numpy as np\n",
    "    '''\n",
    "\n",
    "    :param S: Asset price\n",
    "    :param X: Strike price\n",
    "    :param T: Time to Maturity\n",
    "    :param r: risk-free rate (treasury bills)\n",
    "    :param sigma: volatility\n",
    "    :return: partial derivative w.r.t volatility\n",
    "    '''\n",
    "\n",
    "    ### calculating d1 from black scholes\n",
    "    d1 = (np.log(S / X) + (r + sigma ** 2 / 2) * T) / sigma * np.sqrt(T)\n",
    "\n",
    "    #calculate vega\n",
    "    vega = S  * np.sqrt(T) * N_prime(d1)\n",
    "    return vega\n",
    "N_prime(10)"
   ]
  },
  {
   "cell_type": "code",
   "execution_count": 211,
   "metadata": {},
   "outputs": [
    {
     "name": "stdout",
     "output_type": "stream",
     "text": [
      "found on 5th iteration\n",
      "difference is equal to 6.808580474171322e-05\n",
      "Implied volatility using Newton Rapshon is:  0.16553037933141238\n"
     ]
    }
   ],
   "source": [
    "def implied_volatility_call(C, S, X, T, r, tol=0.0001,max_iterations=100):\n",
    "    '''\n",
    "\n",
    "    :param C: Observed call price\n",
    "    :param S: Asset price\n",
    "    :param X: Strike Price\n",
    "    :param T: Time to Maturity\n",
    "    :param r: riskfree rate\n",
    "    :param tol: error tolerance in result\n",
    "    :param max_iterations: max iterations to update vol\n",
    "    :return: implied volatility in percent\n",
    "    '''\n",
    "\n",
    "\n",
    "    ### assigning initial volatility estimate for input in Newton_rap procedure\n",
    "    sigma = 0.3\n",
    "\n",
    "    for i in range(max_iterations):\n",
    "\n",
    "        ### calculate difference between binomial price and market price with\n",
    "        ### iteratively updated volality estimate\n",
    "        diff = binomialCallEuropean(S,X,T,r,sigma,1000) - C\n",
    "\n",
    "        ###break if difference is less than specified tolerance level\n",
    "        if abs(diff) < tol:\n",
    "            print(f'found on {i}th iteration')\n",
    "            print(f'difference is equal to {diff}')\n",
    "            break\n",
    "\n",
    "        ### use newton rapshon to update the estimate\n",
    "        sigma = sigma - diff / vega(S, X, T, r, sigma)\n",
    "\n",
    "    return sigma\n",
    "X = 10600\n",
    "C = 218.60\n",
    "S = 9166\n",
    "r = 0.01\n",
    "T = 1.12\n",
    "imp_vol = implied_volatility_call(C,S,X,T,r)\n",
    "print('Implied volatility using Newton Rapshon is: ',imp_vol)"
   ]
  },
  {
   "cell_type": "code",
   "execution_count": 212,
   "metadata": {},
   "outputs": [
    {
     "name": "stdout",
     "output_type": "stream",
     "text": [
      "found on 5th iteration\n",
      "difference is equal to 6.808580474171322e-05\n",
      "Implied volatility using Newton Rapshon is:  0.16553037933141238\n",
      "found on 3th iteration\n",
      "difference is equal to 4.6960232737092156e-05\n",
      "Implied volatility using Newton Rapshon is:  0.1822320278451953\n",
      "found on 3th iteration\n",
      "difference is equal to -1.7541542092658347e-05\n",
      "Implied volatility using Newton Rapshon is:  0.19799587614242586\n",
      "found on 5th iteration\n",
      "difference is equal to -1.6350377109120018e-05\n",
      "Implied volatility using Newton Rapshon is:  0.2238841123961012\n",
      "found on 7th iteration\n",
      "difference is equal to -1.7228876231456525e-05\n",
      "Implied volatility using Newton Rapshon is:  0.2570300607050749\n"
     ]
    }
   ],
   "source": [
    "X = [10600,9800,9200,8400,7600]\n",
    "X = list(X)\n",
    "C = [218.60,491.90,796.80,1323.40,1955.50]\n",
    "C = list(C)\n",
    "S = 9166\n",
    "r = 0.01\n",
    "T = 1.12\n",
    "\n",
    "for i in range(5):\n",
    "    imp_vol = implied_volatility_call(C[i],S,X[i],T,r)\n",
    "    print('Implied volatility using Newton Rapshon is: ',imp_vol)"
   ]
  },
  {
   "cell_type": "code",
   "execution_count": 336,
   "metadata": {},
   "outputs": [],
   "source": [
    "import pandas as pd\n",
    "# Create dictionary for each type of option\n",
    "AmericanCall = {\"Interest rate\":[], \"American Call Price\":[]}\n",
    "AmericanPut = {\"Interest rate\":[], \"American Put Price\":[]}\n",
    "EuropeanCall = {\"Interest rate\":[], \"European Call Price\":[]}\n",
    "EuropeanPut = {\"Interest rate\":[], \"European Put Price\":[]}\n",
    "interest = []\n",
    "for j in range(0,51):\n",
    "    interest.append(j/100)\n",
    "    interest.append(-j/100)\n",
    "\n",
    "interest.sort()\n",
    "\n",
    "interest = list(interest)\n",
    "for r in range(100):\n",
    "    #Append interest rate and option price to dictionaries\n",
    "    # print(interest[r],binomialCallAmerican(90,100,5/12,interest[r],0.3,10))\n",
    "    AmericanCall[\"Interest rate\"].append(interest[r])\n",
    "    AmericanCall[\"American Call Price\"].append(binomialCallAmerican(90,100,5/12,interest[r],0.3,10))\n",
    "    EuropeanCall[\"Interest rate\"].append(interest[r])\n",
    "    EuropeanCall[\"European Call Price\"].append(binomialCallEuropean(90,100,5/12,interest[r],0.3,10))\n",
    "    AmericanPut[\"Interest rate\"].append(interest[r])\n",
    "    AmericanPut[\"American Put Price\"].append(binomialPutAmerican(90,100,5/12,interest[r],0.3,10))\n",
    "    EuropeanPut[\"Interest rate\"].append(interest[r])\n",
    "    EuropeanPut[\"European Put Price\"].append(binomialPutEuropean(90,100,5/12,interest[r],0.3,10))\n",
    "\n",
    "#Transform dictionaries into dataframe\n",
    "AmericanCall = pd.DataFrame(AmericanCall)\n",
    "AmericanPut = pd.DataFrame(AmericanPut)\n",
    "EuropeanCall = pd.DataFrame(EuropeanCall)\n",
    "EuropeanPut = pd.DataFrame(EuropeanPut)\n",
    "EuropeanCall\n",
    "\n",
    "#Merge dataframes\n",
    "df = pd.concat([AmericanCall,EuropeanCall,AmericanPut,EuropeanPut], axis=1)\n",
    "df\n",
    "#Export to CSV\n",
    "df.to_csv(\"C:/Users/Desktop/Desktop/Options.csv\")\n"
   ]
  }
 ],
 "metadata": {
  "interpreter": {
   "hash": "ac59ebe37160ed0dfa835113d9b8498d9f09ceb179beaac4002f036b9467c963"
  },
  "kernelspec": {
   "display_name": "Python 3.9.6 64-bit",
   "name": "python3"
  },
  "language_info": {
   "codemirror_mode": {
    "name": "ipython",
    "version": 3
   },
   "file_extension": ".py",
   "mimetype": "text/x-python",
   "name": "python",
   "nbconvert_exporter": "python",
   "pygments_lexer": "ipython3",
   "version": "3.9.6"
  },
  "orig_nbformat": 4
 },
 "nbformat": 4,
 "nbformat_minor": 2
}
