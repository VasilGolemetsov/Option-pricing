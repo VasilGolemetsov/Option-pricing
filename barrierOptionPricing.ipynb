{
 "cells": [
  {
   "cell_type": "code",
   "execution_count": 3,
   "metadata": {},
   "outputs": [],
   "source": [
    "import numpy as np\n",
    "from numpy import sqrt, exp\n",
    "import math\n",
    "from numpy import multiply, power, add, subtract\n",
    "import matplotlib.pyplot as plt\n",
    "from scipy import stats\n",
    "from scipy.signal import argrelextrema\n",
    "from scipy import optimize\n",
    "\n",
    "from functools import wraps\n",
    "from time import time\n",
    "\n",
    "def timing(f):\n",
    "    @wraps(f)\n",
    "    def wrap(*args, **kw):\n",
    "        ts = time()\n",
    "        result = f(*args, **kw)\n",
    "        te = time()\n",
    "        print('func:%r args:[%r, %r] took: %2.4f sec' % \\\n",
    "          (f.__name__, args, kw, te-ts))\n",
    "        return result\n",
    "    return wrap"
   ]
  },
  {
   "cell_type": "code",
   "execution_count": 4,
   "metadata": {},
   "outputs": [],
   "source": [
    "# Initialise parameters\n",
    "S0 = 90      # initial stock price\n",
    "K = 30       # strike price\n",
    "T = 1         # time to maturity in years\n",
    "H = 200      # up-and-out barrier price/value\n",
    "r = 0.03      # annual risk-free rate\n",
    "N = 3         # number of time steps\n",
    "# u = 1.1       # up-factor in binomial models\n",
    "# d = 1/u       # ensure recombining tree\n",
    "deltaT = T/N\n",
    "sigma = 0.3\n",
    "# u = exp(sigma * sqrt(deltaT))\n",
    "# d = 1.0 / u"
   ]
  },
  {
   "cell_type": "code",
   "execution_count": 5,
   "metadata": {},
   "outputs": [],
   "source": [
    "def barrier_tree_slow(K,T,S0,H,r,N,u,d,opttype='C'):\n",
    "    #precompute values\n",
    "    dt = T/N\n",
    "    q = (np.exp(r*dt) - d)/(u-d)\n",
    "    disc = np.exp(-r*dt)\n",
    "    \n",
    "    # initialise asset prices at maturity\n",
    "    S = np.zeros(N+1)\n",
    "    for j in range(0,N+1):\n",
    "        S[j] = S0 * u**j * d**(N-j)\n",
    "        \n",
    "    # option payoff\n",
    "    C = np.zeros(N+1)\n",
    "    for j in range(0,N+1):\n",
    "        if opttype == 'C':\n",
    "            C[j] = max(0, S[j] - K)\n",
    "        else:\n",
    "            C[j] = max(0, K - S[j])\n",
    "            \n",
    "    # check terminal condition payoff\n",
    "    for j in range(0, N+1):\n",
    "        S = S0 * u**j * d**(N-j)\n",
    "        if S >= H:\n",
    "            C[j] = 0\n",
    "            \n",
    "    # backward recursion through the tree\n",
    "    for i in np.arange(N-1,-1,-1):\n",
    "        for j in range(0,i+1):\n",
    "            S = S0 * u**j * d**(i-j)\n",
    "            if S >= H:\n",
    "                C[j] = 0\n",
    "            else:\n",
    "                C[j] = disc * (q*C[j+1]+(1-q)*C[j])\n",
    "    return C[0]"
   ]
  },
  {
   "cell_type": "code",
   "execution_count": 6,
   "metadata": {},
   "outputs": [],
   "source": [
    "def barrier_tree_fast(K, T, S0, H, r, N, u, d, opttype='C'):\n",
    "    #precompute values\n",
    "    dt = T/N\n",
    "    q = (np.exp(r*dt) - d)/(u-d)\n",
    "    disc = np.exp(-r*dt)\n",
    "\n",
    "    # initialise asset prices at maturity\n",
    "    S = S0 * d**(np.arange(N, -1, -1)) * u**(np.arange(0, N+1, 1))\n",
    "    print(S)\n",
    "    # option payoff\n",
    "    if opttype == 'C':\n",
    "        C = np.maximum(S - K, 0)\n",
    "    else:\n",
    "        C = np.maximum(K - S, 0)\n",
    "\n",
    "    # check terminal condition payoff\n",
    "    C[S >= H] = 0\n",
    "\n",
    "    # backward recursion through the tree\n",
    "    for i in np.arange(N-1, -1, -1):\n",
    "        S = S0 * d**(np.arange(i, -1, -1)) * u**(np.arange(0, i+1, 1))\n",
    "        C[:i+1] = disc * (q * C[1:i+2] + (1-q) * C[0:i+1])\n",
    "        C = C[:-1]\n",
    "        C[S >= H] = 0\n",
    "    \n",
    "        # print(C)\n",
    "    return C[0]\n"
   ]
  },
  {
   "cell_type": "code",
   "execution_count": 7,
   "metadata": {},
   "outputs": [],
   "source": [
    "# for N in [3,50,100,1000]:\n",
    "#     print(f\"N:{N} , option price: {barrier_tree_slow(K,T,S0,H,r,N,u,d,opttype='C')}\")\n",
    "#     print(f\"N:{N} , option price: {barrier_tree_fast(K,T,S0,H,r,N,u,d,opttype='C')}\")"
   ]
  },
  {
   "cell_type": "code",
   "execution_count": 8,
   "metadata": {},
   "outputs": [],
   "source": [
    "# print(barrier_tree_fast(K,T,S0,H,r,10,u,d,opttype='C'))"
   ]
  },
  {
   "cell_type": "code",
   "execution_count": 108,
   "metadata": {},
   "outputs": [
    {
     "name": "stdout",
     "output_type": "stream",
     "text": [
      "5.777971058296163\n"
     ]
    }
   ],
   "source": [
    "\n",
    "def barrier_tree_fast(K, T, S0, H, r, N, sigma,div, opttype='C', barriertype=\"uo\"):\n",
    "\n",
    "\n",
    "    #precompute values\n",
    "    \n",
    "    powerd = np.zeros(1+2*N)\n",
    "    powerd[:N+1] = np.arange(N, -1, -1)\n",
    "\n",
    "    poweru = np.zeros(1+2*N)\n",
    "    poweru[N:] = np.arange(0, N+1, 1)\n",
    "\n",
    "    \n",
    "    powerm = np.arange(0, 1+2*N, 1., )\n",
    "    powerm[N:] = np.arange(N, -1, -1)\n",
    " \n",
    "    dt = T/N\n",
    "    u = exp(sigma*sqrt(2*dt))\n",
    "    d = 1/u\n",
    "    m = u*d\n",
    "    qu = ((math.exp((r-div) *\n",
    "                    dt/2.) -\n",
    "           math.exp(-sigma *\n",
    "                    math.sqrt(dt/2.))) /\n",
    "          (math.exp(sigma *\n",
    "                    math.sqrt(dt/2.)) -\n",
    "           math.exp(-sigma *\n",
    "                    math.sqrt(dt/2.))))**2\n",
    "    qd = ((math.exp(sigma *\n",
    "                         math.sqrt(dt/2.)) -\n",
    "                math.exp((r-div) *\n",
    "                         dt/2.)) /\n",
    "               (math.exp(sigma *\n",
    "                         math.sqrt(dt/2.)) -\n",
    "                math.exp(-sigma *\n",
    "                         math.sqrt(dt/2.))))**2.\n",
    "    qm = 1 - qu - qd\n",
    "    disc = np.exp(-r*dt)\n",
    "\n",
    "    \n",
    "    # initialise asset prices at maturity\n",
    "    S = S0*d**(powerd)*u**(poweru)*m**(powerm)\n",
    "    # print(f\"Stock array N={N}:{S}\")\n",
    "    # option payoff\n",
    "    if opttype == 'C':\n",
    "        C = np.maximum(S - K, 0)\n",
    "    else:\n",
    "        C = np.maximum(K - S, 0)\n",
    "    \n",
    "    # check terminal condition payoff\n",
    "    if barriertype==\"uo\":\n",
    "        C[S >= H] = 0\n",
    "    elif barriertype ==\"do\":\n",
    "        C[S <= H] = 0\n",
    "\n",
    "    # print(f\"Option array N={N}:{C}\")\n",
    "\n",
    "    # backward recursion through the tree\n",
    "    for i in np.arange(N-1, -1, -1):\n",
    "       \n",
    "        powerd = np.zeros(1+2*i)\n",
    "        powerd[:i+1] = np.arange(i, -1, -1)\n",
    "        poweru = np.zeros(1+2*i)\n",
    "        poweru[i:] = np.arange(0, i+1, 1)\n",
    "        powerm = np.arange(0, 1+2*i, 1., )\n",
    "        powerm[i:] = np.arange(i, -1, -1)\n",
    "        \n",
    "        S = S0*d**(powerd)*u**(poweru)*m**(powerm)\n",
    "        # print(f\"Stock array N={i}:{S}\")\n",
    "        C[:1+2*i] = disc * (qd*C[:-2] + qm*C[1:-1]+ qu*C[2:])\n",
    "        C = C[:1+2*i]\n",
    "        \n",
    "        if barriertype == \"uo\":\n",
    "            C[S >= H] = 0\n",
    "        elif barriertype == \"do\":\n",
    "            C[S <= H] = 0\n",
    "        # print(f\"Option array N={i}:{C}\")\n",
    "        \n",
    "        \n",
    "    return C[0]\n",
    "\n",
    "\n",
    "# Initialise parameters\n",
    "S0 = 95      # initial stock price\n",
    "K = 100      # strike price\n",
    "T = 1         # time to maturity in years\n",
    "H = 110   # up-and-out barrier price/value\n",
    "r = 0.1      # annual risk-free rate\n",
    "N = 4000         # number of time steps\n",
    "sigma = 0.25  # standard deviation\n",
    "div = 0        # dividend\n",
    "barriertype = \"uo\"   # barrier type\n",
    "optiontype = \"P\"     # option type\n",
    "\n",
    "print(barrier_tree_fast(K, T, S0, H, r, N, sigma,div, opttype=optiontype, barriertype=barriertype))\n"
   ]
  },
  {
   "cell_type": "code",
   "execution_count": 157,
   "metadata": {},
   "outputs": [
    {
     "name": "stdout",
     "output_type": "stream",
     "text": [
      "min: -1.2013567227115427 steps:5 option price: 5.943647290132938\n",
      "min: -0.9680045884269664 steps:23 option price: 5.716959974519028\n",
      "min: -0.7433771186437825 steps:52 option price: 5.692801635335866\n",
      "min: -0.6066441098108228 steps:93 option price: 5.694071321754736\n",
      "min: -0.5060190122694674 steps:145 option price: 5.695541782008736\n",
      "min: -0.43428067350914556 steps:209 option price: 5.6921231669121175\n",
      "min: -0.380543206585644 steps:284 option price: 5.696823209932804\n",
      "min: -0.338450176962966 steps:372 option price: 5.691577039062489\n",
      "min: -0.30464149455900813 steps:471 option price: 5.690677253003645\n",
      "min: -0.27695161389516 steps:581 option price: 5.692694761277919\n",
      "min: -0.25369618846092123 steps:703 option price: 5.692090957760199\n",
      "min: -0.23420755693052087 steps:837 option price: 5.691529044835705\n",
      "min: -0.21744245552347596 steps:982 option price: 5.692323186901098\n"
     ]
    }
   ],
   "source": [
    "\n",
    "min = 0 # local min time container\n",
    "mincount=0 # local min count counter \n",
    "i = 1 # number of lattices\n",
    "x = barrier_tree_fast(K, T, S0, H, r, i, sigma, div,opttype=optiontype, barriertype=barriertype) # barrier price at i-1\n",
    "while i<=1000:\n",
    "    i += 1 # count increase \n",
    "    y = barrier_tree_fast(K, T, S0, H, r, i, sigma, div,opttype=optiontype, barriertype=barriertype) # barrier price at i\n",
    "    # print(f\"{x-y} steps:{i} option price: {y}\")\n",
    "    \n",
    "    if (x-y) < 0.0: # if difference between price at t-1 and t is negative => local min\n",
    "        \n",
    "        mincount+=1 # count increase\n",
    "        # print(mincount)\n",
    "        print(f\"min: {x-y} steps:{i-1} option price: {x}\")\n",
    "        \n",
    "        if mincount>=2: # making sure there are at least two min values so that I can add the difference \n",
    "            \n",
    "            i = i+((i)-min) # changes time i to  local min at i plus difference between time i and previous local min time(i)\n",
    "        min = i # changes time of last local min \n",
    "           \n",
    "            \n",
    "            \n",
    "    # elif (x-y)>0.0:\n",
    "    #     print(f\"max: {x-y} steps:{i} option price: {y}\")\n",
    "    #     max = i\n",
    "    x = y # changes x to i'th period option price\n",
    "\n"
   ]
  },
  {
   "cell_type": "code",
   "execution_count": null,
   "metadata": {},
   "outputs": [],
   "source": [
    "\n",
    "\n",
    "x = np.arange(1,1001,1)\n",
    "y = np.array([])\n",
    "for i in range(x[0], x[-1]+1):\n",
    "    \n",
    "\n",
    "    c = np.array(barrier_tree_fast(K, T, S0, H, r, i,sigma, div, opttype=optiontype, barriertype=barriertype))\n",
    "    # print(c,i)\n",
    "    \n",
    "    y = np.append(y,c)\n",
    "    "
   ]
  },
  {
   "cell_type": "code",
   "execution_count": null,
   "metadata": {},
   "outputs": [
    {
     "data": {
      "text/plain": [
       "array([5.69280164, 5.69407132, 5.69554178, 5.69212317, 5.69682321,\n",
       "       5.69157704, 5.69067725, 5.69269476, 5.69209096, 5.69152904,\n",
       "       5.69232319])"
      ]
     },
     "metadata": {},
     "output_type": "display_data"
    }
   ],
   "source": [
    "y[argrelextrema(y,np.less)[:]][2:]\n",
    "# argrelextrema(y,np.less)\n"
   ]
  },
  {
   "cell_type": "code",
   "execution_count": 147,
   "metadata": {},
   "outputs": [
    {
     "data": {
      "text/plain": [
       "[<matplotlib.lines.Line2D at 0x26e3da0f430>]"
      ]
     },
     "execution_count": 147,
     "metadata": {},
     "output_type": "execute_result"
    },
    {
     "data": {
      "image/png": "[encoded data removed]",
      "text/plain": [
       "<Figure size 432x288 with 1 Axes>"
      ]
     },
     "metadata": {
      "needs_background": "light"
     },
     "output_type": "display_data"
    }
   ],
   "source": [
    "fig, ax = plt.subplots()\n",
    "ax.plot(x,y)\n"
   ]
  }
 ],
 "metadata": {
  "interpreter": {
   "hash": "da0dbd67f104e0360e031c7d8605a489847c0cd083ed24fbd60b1493cd96b4a8"
  },
  "kernelspec": {
   "display_name": "Python 3.10.2 64-bit",
   "language": "python",
   "name": "python3"
  },
  "language_info": {
   "codemirror_mode": {
    "name": "ipython",
    "version": 3
   },
   "file_extension": ".py",
   "mimetype": "text/x-python",
   "name": "python",
   "nbconvert_exporter": "python",
   "pygments_lexer": "ipython3",
   "version": "3.10.2"
  },
  "orig_nbformat": 4
 },
 "nbformat": 4,
 "nbformat_minor": 2
}
